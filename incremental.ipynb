{
 "cells": [
  {
   "cell_type": "code",
   "execution_count": null,
   "metadata": {},
   "outputs": [],
   "source": [
    "asdasd\n",
    "sdfsdfsdfsdffsd\n",
    "\n",
    "sdfsdfsdfsdf\n",
    "\n",
    "sdfjksdhfjkhsdkfsdfsdf\n",
    "\n",
    "asd\n",
    "asd\n",
    "asdasas\n",
    "d\n",
    "as\n",
    "asd\n",
    "as\n",
    "das\n",
    "dasd\n",
    "\n",
    "\n",
    "sdfsdf\n",
    "\n",
    "sdsdfsd\n",
    "s\n",
    "df\n",
    "sdfsdfsdfsdfsdf"
   ]
  }
 ],
 "metadata": {
  "kernelspec": {
   "display_name": "Python 3",
   "language": "python",
   "name": "python3"
  },
  "language_info": {
   "name": "python",
   "version": "3.11.5"
  }
 },
 "nbformat": 4,
 "nbformat_minor": 2
}
